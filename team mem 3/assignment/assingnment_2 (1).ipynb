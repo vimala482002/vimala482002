{
  "nbformat": 4,
  "nbformat_minor": 0,
  "metadata": {
    "colab": {
      "private_outputs": true,
      "provenance": [],
      "collapsed_sections": []
    },
    "kernelspec": {
      "name": "python3",
      "display_name": "Python 3"
    },
    "language_info": {
      "name": "python"
    }
  },
  "cells": [
    {
      "cell_type": "code",
      "execution_count": null,
      "metadata": {
        "id": "tXGW7Xztot37"
      },
      "outputs": [],
      "source": [
        "# question 1\n",
        "# 1. importing required package\n",
        "import pandas as pd\n",
        "import seaborn as sns\n",
        "import numpy as np\n",
        "from matplotlib import pyplot as plt\n",
        "%matplotlib inline"
      ]
    },
    {
      "cell_type": "code",
      "source": [
        "# question 2\n",
        "# loading the dataset\n",
        "df = pd.read_csv(\"/content/vivek (3).csv\")\n",
        "df"
      ],
      "metadata": {
        "id": "HrWv-0YZo6gk"
      },
      "execution_count": null,
      "outputs": []
    },
    {
      "cell_type": "code",
      "source": [
        "#Question-3 :\n",
        "# Visualizations\n",
        "#3.1 Univariate Analysis\n",
        "sns.displot(df.Age)"
      ],
      "metadata": {
        "id": "P3eoJP4Zp4ef"
      },
      "execution_count": null,
      "outputs": []
    },
    {
      "cell_type": "code",
      "source": [
        "# 3.2 Bi-Variate Analysis\n",
        "df.plot.line()"
      ],
      "metadata": {
        "id": "4oPzQzimp7D9"
      },
      "execution_count": null,
      "outputs": []
    },
    {
      "cell_type": "code",
      "source": [
        "# 3.3 Multi - Variate Analysis\n",
        "sns.lmplot(\"Age\",\"NumOfProducts\",df,hue=\"NumOfProducts\", fit_reg=False);sns.lmplot(\"Age\",\"NumOfProducts\",df,hue=\"NumOfProducts\", fit_reg=False)"
      ],
      "metadata": {
        "id": "gHefYvM6qJwC"
      },
      "execution_count": null,
      "outputs": []
    },
    {
      "cell_type": "code",
      "source": [
        "# 4. Perform descriptive statistics on the dataset.\n",
        "df.describe()"
      ],
      "metadata": {
        "id": "xlI7eK83qOoP"
      },
      "execution_count": null,
      "outputs": []
    },
    {
      "cell_type": "code",
      "source": [
        "# 4. Perform descriptive statistics on the dataset.\n",
        "df.describe()"
      ],
      "metadata": {
        "id": "H2ckPgLxqdQN"
      },
      "execution_count": null,
      "outputs": []
    },
    {
      "cell_type": "code",
      "source": [
        "# 5 \n",
        "data = pd.read_csv(\"/content/vivek (3).csv\")\n",
        "pd.isnull(data[\"CreditScore\"])"
      ],
      "metadata": {
        "id": "BYzfrCx5stai"
      },
      "execution_count": null,
      "outputs": []
    },
    {
      "cell_type": "code",
      "source": [
        "# 6. Find the outliers and replace the outliers.\n",
        "df[\"Tenure\"] = np.where(df[\"Tenure\"] >10, np.median,df[\"Tenure\"])\n",
        "df[\"Tenure\"]"
      ],
      "metadata": {
        "id": "JckQAUJCtSAS"
      },
      "execution_count": null,
      "outputs": []
    },
    {
      "cell_type": "code",
      "source": [
        "# 7. Check for Categorical columns and perform encoding.\n",
        "pd.get_dummies(df, columns=[\"Gender\", \"Age\"], prefix=[\"Age\", \"Gender\"]).head()"
      ],
      "metadata": {
        "id": "DuANaUBxtZ8-"
      },
      "execution_count": null,
      "outputs": []
    },
    {
      "cell_type": "code",
      "source": [
        "# 8. Split the data into dependent and independent variables\n",
        "# 8.1 Split the data into Independent variables.\n",
        "X = df.iloc[:, :-2].values\n",
        "print(X)"
      ],
      "metadata": {
        "id": "yZJxLfyWtmgm"
      },
      "execution_count": null,
      "outputs": []
    },
    {
      "cell_type": "code",
      "source": [
        "# 8.2 Split the data into Dependent variables.\n",
        "Y = df.iloc[:, -1].values\n",
        "print(Y)"
      ],
      "metadata": {
        "id": "ZlTKt_fntuNf"
      },
      "execution_count": null,
      "outputs": []
    },
    {
      "cell_type": "code",
      "source": [
        "#9. Scale the independent variables\n",
        "import pandas as pd\n",
        "from sklearn.preprocessing import MinMaxScaler\n",
        "scaler = MinMaxScaler()\n",
        "df[[\"RowNumber\"]] = scaler.fit_transform(df[[\"RowNumber\"]])\n",
        "print(df)"
      ],
      "metadata": {
        "id": "GkSAS5K_t1Pr"
      },
      "execution_count": null,
      "outputs": []
    },
    {
      "cell_type": "code",
      "source": [
        "# 10. Split the data into training and testing\n",
        "from sklearn.model_selection import train_test_split\n",
        "train_size=0.8\n",
        "X = df.drop(columns = ['Tenure']).copy()\n",
        "y = df['Tenure']\n",
        "X_train, X_rem, y_train, y_rem = train_test_split(X,y, train_size=0.8)\n",
        "test_size = 0.5\n",
        "X_valid, X_test, y_valid, y_test = train_test_split(X_rem,y_rem, test_size=0.5)\n",
        "print(X_train.shape), print(y_train.shape)\n",
        "print(X_valid.shape), print(y_valid.shape)\n",
        "print(X_test.shape), print(y_test.shape)"
      ],
      "metadata": {
        "id": "Rv-1VEK3t767"
      },
      "execution_count": null,
      "outputs": []
    }
  ]
}